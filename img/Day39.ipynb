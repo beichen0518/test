{
 "cells": [
  {
   "cell_type": "markdown",
   "metadata": {},
   "source": [
    "## Linux\n",
    "- 比windows更稳定可靠\n",
    "- Unix 也比较好，不过它是商业的，一般和硬件绑定"
   ]
  },
  {
   "cell_type": "markdown",
   "metadata": {},
   "source": [
    "### Nginx\n",
    "- HTTP server 处理浏览器发来的http的请求\n",
    "- wsgi 网关"
   ]
  },
  {
   "cell_type": "markdown",
   "metadata": {},
   "source": [
    "### MySQL\n",
    "- PDB 关系型数据库\n",
    "- Persistence 数据持久化\n",
    "- SQL "
   ]
  },
  {
   "cell_type": "markdown",
   "metadata": {},
   "source": [
    "### Redis\n",
    "- NoSQL(Not only SQL)\n",
    "- High Speed Cache 高速缓存\n",
    "- 常用的，访问较多的放在这"
   ]
  },
  {
   "cell_type": "markdown",
   "metadata": {},
   "source": [
    "### Cluster-集群\n",
    "- + Load Balance 负载均衡\n",
    "- + Keepalived 热备 双活\n",
    "- + Nginx/LVS + Keepalived 阿里做的更好的"
   ]
  },
  {
   "cell_type": "markdown",
   "metadata": {},
   "source": [
    "### awk\n",
    "-  ps -aux | grep mysql | awk '{print $2}'| xargs kill -9 2> error.log\n",
    "- 单引号里面是代码 \n",
    "- 能够删除查找到的进程"
   ]
  },
  {
   "cell_type": "markdown",
   "metadata": {},
   "source": [
    "### xargs\n",
    "- 可以将得到值以参数的形式传给其他的函数"
   ]
  },
  {
   "cell_type": "markdown",
   "metadata": {},
   "source": [
    "> **提示** 在Linux下[安装Python3](https://blog.csdn.net/jackfrued/article/details/79380979)"
   ]
  },
  {
   "cell_type": "markdown",
   "metadata": {},
   "source": [
    "### 解压缩+配置环境变量\n",
    "- 在主目录 vim .bash_profile\n",
    "- 找到PATH=$PATH:$HOME/bin\n",
    "- 在后面加上:root PATH=$PATH:$HOME/bin:/root\n",
    "- 注意修改这个一点不要修改错，否则将无法执行任何命令\n",
    "- source .bash_profile 重新执行这个文件"
   ]
  },
  {
   "cell_type": "markdown",
   "metadata": {},
   "source": [
    "### 登录执行\n",
    "- 可以修改.bash_profile或.bashrc \n",
    "- 重新登录后就会自动执行你加入的内容"
   ]
  },
  {
   "cell_type": "markdown",
   "metadata": {},
   "source": [
    "### 开机执行\n",
    "- 可以修改/etc/rc.local"
   ]
  },
  {
   "cell_type": "markdown",
   "metadata": {},
   "source": [
    "### 定时执行-crond\n",
    "- crontab -e 编辑计划任务\n",
    "- crontab -l 列出正在运行的计划任务"
   ]
  },
  {
   "cell_type": "code",
   "execution_count": null,
   "metadata": {},
   "outputs": [],
   "source": [
    "\"\"\"\n",
    "之后会自动进入vim中\n",
    "在第一行\n",
    "五个星号分别表示分钟 小时 天 月份 星期\n",
    "* * * * * 后面加入要执行的命令\n",
    "\n",
    "* 7,18 3 * * 这样表示每个月的3号的7点到18点的每分钟都执行\n",
    "如果不是很熟悉怎么写，可以用网上的cton表达式生成器\n",
    "\n",
    "\"\"\""
   ]
  },
  {
   "cell_type": "markdown",
   "metadata": {},
   "source": [
    "### vim 高级用法\n",
    "- :addr/addrev main if __name__ == '__main__': 可以将后面的语句定义缩写 在编辑模式按main按空格或回车可以直接调用\n",
    "- :map 快捷键 命令   可以定义一个执行命令的快捷键"
   ]
  },
  {
   "cell_type": "markdown",
   "metadata": {},
   "source": [
    "### Shell\n",
    "- 可以执行系统命令"
   ]
  },
  {
   "cell_type": "markdown",
   "metadata": {},
   "source": [
    "```Shell\n",
    "sum=0\n",
    "int=1\n",
    "while(($int<=100))\n",
    "do\n",
    "sum=`expr $sum + $int`\n",
    "let \"int++\"\n",
    "done\n",
    "echo $sum\n",
    "```"
   ]
  },
  {
   "cell_type": "markdown",
   "metadata": {},
   "source": [
    "## 语言的类型\n",
    "- 解释型语言\n",
    "    - Python Shell/脚本语言 PHP JavaScript \n",
    "- 编译型语言\n",
    "    - c语言 c++\n",
    "- 汇编语言\n",
    "    - 把机器语言的0，1 编译成助记符号\n",
    "- 机器语言\n",
    "    - 0，1\n",
    "- 越往上执行效率越低，开发效率越高"
   ]
  }
 ],
 "metadata": {
  "kernelspec": {
   "display_name": "Python 3",
   "language": "python",
   "name": "python3"
  },
  "language_info": {
   "codemirror_mode": {
    "name": "ipython",
    "version": 3
   },
   "file_extension": ".py",
   "mimetype": "text/x-python",
   "name": "python",
   "nbconvert_exporter": "python",
   "pygments_lexer": "ipython3",
   "version": "3.6.4"
  }
 },
 "nbformat": 4,
 "nbformat_minor": 2
}
